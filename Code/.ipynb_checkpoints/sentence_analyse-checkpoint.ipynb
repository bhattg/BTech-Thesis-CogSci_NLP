{
 "cells": [
  {
   "cell_type": "code",
   "execution_count": 45,
   "metadata": {},
   "outputs": [],
   "source": [
    "import pandas\n",
    "import os "
   ]
  },
  {
   "cell_type": "code",
   "execution_count": 47,
   "metadata": {},
   "outputs": [],
   "source": [
    "import xlwt \n",
    "from xlwt import Workbook "
   ]
  },
  {
   "cell_type": "code",
   "execution_count": 48,
   "metadata": {},
   "outputs": [],
   "source": [
    "from tqdm.autonotebook import tqdm"
   ]
  },
  {
   "cell_type": "code",
   "execution_count": 49,
   "metadata": {},
   "outputs": [],
   "source": [
    "def dump_xls(dic, output_filename, sheet=\"Sheet 1\"):\n",
    "    wb = Workbook() \n",
    "    sheet1 = wb.add_sheet(sheet) \n",
    "    l = len(dic)\n",
    "    count=0\n",
    "    for key in dic.keys():\n",
    "        sheet1.write(count, 0, key)\n",
    "        sheet1.write(count, 1, dic[key][0])\n",
    "        sheet1.write(count, 2, dic[key][1])\n",
    "        sheet1.write(count, 3, dic[key][2])\n",
    "        count+=1\n",
    "    wb.save(output_filename)"
   ]
  },
  {
   "cell_type": "code",
   "execution_count": 51,
   "metadata": {},
   "outputs": [],
   "source": [
    "def get_frame_dict(root, n_inter):\n",
    "    file =  \"Dumped_csv_\"+str(n_inter)+\".csv\"\n",
    "    df = pandas.read_csv(os.path.join(root, file))\n",
    "    frame_dict = df.to_dict(orient=\"list\")\n",
    "    return frame_dict\n",
    "\n",
    "def example_output_map(frame_dict):\n",
    "    mapping={}\n",
    "    for i in range(len(frame_dict[\"Input sentence\"])):\n",
    "        mapping[frame_dict[\"Input sentence\"][i]] = (frame_dict[\"Correct output\"][i], frame_dict[\"predicted_output\"][i])\n",
    "    return mapping\n",
    "\n",
    "def get_all_stats(comm):\n",
    "    both_wrong={}\n",
    "    model1_corr={}\n",
    "    model2_corr={}\n",
    "    for key in comm.keys():\n",
    "        [(corr, pred_m1), (corr, pred_m2)] = comm[key]    \n",
    "        if pred_m1 !=corr and pred_m1==pred_m2:\n",
    "            both_wrong[key] = (corr, pred_m1, pred_m2)\n",
    "        elif pred_m1!=pred_m2 and pred_m1==corr:\n",
    "            model1_corr[key] = (corr, pred_m1, pred_m2)\n",
    "        elif pred_m2==corr and pred_m1!=pred_m2:\n",
    "            model2_corr[key] = (corr, pred_m1, pred_m2)\n",
    "        \n",
    "    return both_wrong, model1_corr, model2_corr\n",
    "\n",
    "def get_common_examples(frame_dict, mapping):\n",
    "    comm={}\n",
    "    for i in range(len(frame_dict[\"Input sentence\"])):\n",
    "        if frame_dict[\"Input sentence\"][i] in mapping.keys():\n",
    "            comm[frame_dict[\"Input sentence\"][i]]= [mapping[frame_dict[\"Input sentence\"][i]],(frame_dict[\"Correct output\"][i], frame_dict[\"predicted_output\"][i])]\n",
    "    return comm"
   ]
  },
  {
   "cell_type": "code",
   "execution_count": 62,
   "metadata": {},
   "outputs": [],
   "source": [
    "root1 = \"decay\\\\\"\n",
    "root2 = \"eirnn_seq\\\\\"\n",
    "root3 = \"gru\\\\\"\n",
    "model1 = \"decay\"  # root1\n",
    "model2 = \"eirnn\"  #root2\n",
    "model3 = \"gru\" #root3"
   ]
  },
  {
   "cell_type": "code",
   "execution_count": 69,
   "metadata": {},
   "outputs": [],
   "source": [
    "def compare_models(model1, model2, root1, root2, dump_root):\n",
    "    for i in tqdm(range(8)):\n",
    "        mapping = example_output_map(get_frame_dict(root1, n_inter=i))\n",
    "        comm = get_common_examples(get_frame_dict(root2, n_inter=i), mapping)\n",
    "        both_wrong, model1_corr, model2_corr = get_all_stats(comm)\n",
    "        file1 = os.path.join(dump_root, \"{}_{}_{}_both_wrong.xls\".format(model1, model2, i))\n",
    "        file2 = os.path.join(dump_root,\"{}_{}_{}_model1_corr.xls\".format(model1, model2, i))\n",
    "        file3 = os.path.join(dump_root, \"{}_{}_{}_model2_corr.xls\".format(model1, model2, i))\n",
    "        print(\"{}_{}_{}_both_wrong {}\".format(model1, model2, i, len(both_wrong)))\n",
    "        print(\"{}_{}_{}_model1_corr {}\".format(model1, model2, i, len(model1_corr)))\n",
    "        print(\"{}_{}_{}_model2_corr {}\".format(model1, model2, i, len(model2_corr)))\n",
    "        dump_xls(both_wrong, file1)\n",
    "        dump_xls(model1_corr, file2)\n",
    "        dump_xls(model2_corr, file3)"
   ]
  },
  {
   "cell_type": "code",
   "execution_count": 70,
   "metadata": {},
   "outputs": [
    {
     "data": {
      "application/vnd.jupyter.widget-view+json": {
       "model_id": "0c9fcadc360e4992811ee0ff174e015d",
       "version_major": 2,
       "version_minor": 0
      },
      "text/plain": [
       "HBox(children=(IntProgress(value=0, max=8), HTML(value='')))"
      ]
     },
     "metadata": {},
     "output_type": "display_data"
    },
    {
     "name": "stdout",
     "output_type": "stream",
     "text": [
      "decay_eirnn_0_both_wrong 3504\n",
      "decay_eirnn_0_model1_corr 6271\n",
      "decay_eirnn_0_model2_corr 5333\n",
      "decay_eirnn_1_both_wrong 2186\n",
      "decay_eirnn_1_model1_corr 3624\n",
      "decay_eirnn_1_model2_corr 1982\n",
      "decay_eirnn_2_both_wrong 1495\n",
      "decay_eirnn_2_model1_corr 2283\n",
      "decay_eirnn_2_model2_corr 1162\n",
      "decay_eirnn_3_both_wrong 822\n",
      "decay_eirnn_3_model1_corr 1201\n",
      "decay_eirnn_3_model2_corr 548\n",
      "decay_eirnn_4_both_wrong 501\n",
      "decay_eirnn_4_model1_corr 562\n",
      "decay_eirnn_4_model2_corr 260\n",
      "decay_eirnn_5_both_wrong 273\n",
      "decay_eirnn_5_model1_corr 302\n",
      "decay_eirnn_5_model2_corr 115\n",
      "decay_eirnn_6_both_wrong 141\n",
      "decay_eirnn_6_model1_corr 119\n",
      "decay_eirnn_6_model2_corr 60\n",
      "decay_eirnn_7_both_wrong 101\n",
      "decay_eirnn_7_model1_corr 72\n",
      "decay_eirnn_7_model2_corr 34\n",
      "\n"
     ]
    }
   ],
   "source": [
    "compare_models(\"decay\", \"eirnn\", root1, root2,\"decay_vs_eirnn\")"
   ]
  },
  {
   "cell_type": "code",
   "execution_count": 71,
   "metadata": {},
   "outputs": [
    {
     "data": {
      "application/vnd.jupyter.widget-view+json": {
       "model_id": "eae15bf5897443b89f31ac45ec1f0e48",
       "version_major": 2,
       "version_minor": 0
      },
      "text/plain": [
       "HBox(children=(IntProgress(value=0, max=8), HTML(value='')))"
      ]
     },
     "metadata": {},
     "output_type": "display_data"
    },
    {
     "name": "stdout",
     "output_type": "stream",
     "text": [
      "decay_gru_0_both_wrong 3153\n",
      "decay_gru_0_model1_corr 5445\n",
      "decay_gru_0_model2_corr 5684\n",
      "decay_gru_1_both_wrong 1550\n",
      "decay_gru_1_model1_corr 1965\n",
      "decay_gru_1_model2_corr 2618\n",
      "decay_gru_2_both_wrong 1031\n",
      "decay_gru_2_model1_corr 1152\n",
      "decay_gru_2_model2_corr 1626\n",
      "decay_gru_3_both_wrong 531\n",
      "decay_gru_3_model1_corr 550\n",
      "decay_gru_3_model2_corr 839\n",
      "decay_gru_4_both_wrong 321\n",
      "decay_gru_4_model1_corr 268\n",
      "decay_gru_4_model2_corr 440\n",
      "decay_gru_5_both_wrong 166\n",
      "decay_gru_5_model1_corr 135\n",
      "decay_gru_5_model2_corr 222\n",
      "decay_gru_6_both_wrong 95\n",
      "decay_gru_6_model1_corr 60\n",
      "decay_gru_6_model2_corr 106\n",
      "decay_gru_7_both_wrong 62\n",
      "decay_gru_7_model1_corr 36\n",
      "decay_gru_7_model2_corr 73\n",
      "\n"
     ]
    }
   ],
   "source": [
    "compare_models(\"decay\", \"gru\", root1, root3,\"decay_vs_gru\")"
   ]
  },
  {
   "cell_type": "code",
   "execution_count": 72,
   "metadata": {},
   "outputs": [
    {
     "data": {
      "application/vnd.jupyter.widget-view+json": {
       "model_id": "a87710e5658448349e87c685d647f5ee",
       "version_major": 2,
       "version_minor": 0
      },
      "text/plain": [
       "HBox(children=(IntProgress(value=0, max=8), HTML(value='')))"
      ]
     },
     "metadata": {},
     "output_type": "display_data"
    },
    {
     "name": "stdout",
     "output_type": "stream",
     "text": [
      "eirnn_gru_0_both_wrong 2977\n",
      "eirnn_gru_0_model1_corr 5621\n",
      "eirnn_gru_0_model2_corr 6798\n",
      "eirnn_gru_1_both_wrong 1756\n",
      "eirnn_gru_1_model1_corr 1759\n",
      "eirnn_gru_1_model2_corr 4054\n",
      "eirnn_gru_2_both_wrong 1160\n",
      "eirnn_gru_2_model1_corr 1023\n",
      "eirnn_gru_2_model2_corr 2618\n",
      "eirnn_gru_3_both_wrong 637\n",
      "eirnn_gru_3_model1_corr 444\n",
      "eirnn_gru_3_model2_corr 1386\n",
      "eirnn_gru_4_both_wrong 365\n",
      "eirnn_gru_4_model1_corr 224\n",
      "eirnn_gru_4_model2_corr 698\n",
      "eirnn_gru_5_both_wrong 205\n",
      "eirnn_gru_5_model1_corr 96\n",
      "eirnn_gru_5_model2_corr 370\n",
      "eirnn_gru_6_both_wrong 117\n",
      "eirnn_gru_6_model1_corr 38\n",
      "eirnn_gru_6_model2_corr 143\n",
      "eirnn_gru_7_both_wrong 80\n",
      "eirnn_gru_7_model1_corr 18\n",
      "eirnn_gru_7_model2_corr 93\n",
      "\n"
     ]
    }
   ],
   "source": [
    "compare_models(\"eirnn\", \"gru\", root2, root3,\"eirnn_vs_gru\")"
   ]
  },
  {
   "cell_type": "code",
   "execution_count": null,
   "metadata": {},
   "outputs": [],
   "source": []
  }
 ],
 "metadata": {
  "kernelspec": {
   "display_name": "Python [conda env:btpenv] *",
   "language": "python",
   "name": "conda-env-btpenv-py"
  },
  "language_info": {
   "codemirror_mode": {
    "name": "ipython",
    "version": 3
   },
   "file_extension": ".py",
   "mimetype": "text/x-python",
   "name": "python",
   "nbconvert_exporter": "python",
   "pygments_lexer": "ipython3",
   "version": "3.6.9"
  }
 },
 "nbformat": 4,
 "nbformat_minor": 2
}
