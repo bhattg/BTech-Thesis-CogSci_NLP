{
 "cells": [
  {
   "cell_type": "code",
   "execution_count": 78,
   "metadata": {},
   "outputs": [],
   "source": [
    "import pandas as pd\n",
    "import ast\n",
    "import os\n",
    "import numpy as np\n",
    "from tqdm.notebook import tqdm"
   ]
  },
  {
   "cell_type": "code",
   "execution_count": 66,
   "metadata": {},
   "outputs": [],
   "source": [
    "df1 = pd.read_csv(\"../../file under test for waveform/dale('obj_rel_across_anim.pickle', 'sing_MS_MV_plur_ES_EV').csv\")\n",
    "df2 = pd.read_csv(\"../../file under test for waveform/nodale('obj_rel_across_anim.pickle', 'sing_MS_MV_plur_ES_EV').csv\")\n",
    "df3 = pd.read_csv(\"../../file under test for waveform/lstm('obj_rel_across_anim.pickle', 'sing_MS_MV_plur_ES_EV') (1).csv\")"
   ]
  },
  {
   "cell_type": "code",
   "execution_count": 67,
   "metadata": {},
   "outputs": [],
   "source": [
    "df1 = df1.to_dict()\n",
    "df2 = df2.to_dict()\n",
    "df3 =df3.to_dict()"
   ]
  },
  {
   "cell_type": "code",
   "execution_count": 14,
   "metadata": {},
   "outputs": [
    {
     "data": {
      "text/plain": [
       "dict_keys(['Unnamed: 0', 'Input sentence', 'Correct output', 'Time stamp outputs'])"
      ]
     },
     "execution_count": 14,
     "metadata": {},
     "output_type": "execute_result"
    }
   ],
   "source": [
    "df1.keys()"
   ]
  },
  {
   "cell_type": "code",
   "execution_count": 12,
   "metadata": {},
   "outputs": [],
   "source": [
    "total_sentences = len(df1[\"Input sentence\"].keys())"
   ]
  },
  {
   "cell_type": "code",
   "execution_count": 80,
   "metadata": {},
   "outputs": [],
   "source": [
    "def draw_waveform_and_save(index, df1, df2, df3, path=None):\n",
    "    sentence = df1[\"Input sentence\"][index].split()\n",
    "    l1 = ast.literal_eval(df1[\"Time stamp outputs\"][index])\n",
    "    l2 = ast.literal_eval(df2[\"Time stamp outputs\"][index])\n",
    "    l3 = ast.literal_eval(df3[\"Time stamp outputs\"][index])\n",
    "    for i in range(len(sentence)):\n",
    "        sentence[i]=sentence[i]+\"_\"+str(i)\n",
    "#     print(l1)\n",
    "#     print(l2)\n",
    "#     print(l3)\n",
    "#     print(sentence)\n",
    "    plt.plot(sentence, l1, label=\"dale\")\n",
    "    plt.plot(sentence, l2, label=\"nodale\")\n",
    "    plt.plot(sentence, l3, label=\"lstm\")\n",
    "    plt.legend(loc=\"upper left\")\n",
    "    if path==None:\n",
    "        plt.show()\n",
    "    else:\n",
    "        plt.savefig(os.path.join(path, str(index)))\n",
    "        plt.close()"
   ]
  },
  {
   "cell_type": "code",
   "execution_count": 81,
   "metadata": {
    "scrolled": true
   },
   "outputs": [
    {
     "data": {
      "application/vnd.jupyter.widget-view+json": {
       "model_id": "cc95e74bece14de5b3ca3766039ca24d",
       "version_major": 2,
       "version_minor": 0
      },
      "text/plain": [
       "HBox(children=(IntProgress(value=0, max=840), HTML(value='')))"
      ]
     },
     "metadata": {},
     "output_type": "display_data"
    },
    {
     "name": "stdout",
     "output_type": "stream",
     "text": [
      "\n"
     ]
    }
   ],
   "source": [
    "root=\"../../pvn comparison for obj rel across anim sing_plur/\"\n",
    "count=0\n",
    "for i in tqdm(range(total_sentences)):\n",
    "    l1 = np.asarray(ast.literal_eval(df1[\"Time stamp outputs\"][i]))\n",
    "    l2 = np.asarray(ast.literal_eval(df2[\"Time stamp outputs\"][i]))\n",
    "    l3 = np.asarray(ast.literal_eval(df3[\"Time stamp outputs\"][i]))\n",
    "    if np.sum(l1!=l2)!=0 or np.sum(l3!=l2)!=0 or np.sum(l1!=l3)!=0:\n",
    "        # now we need to draw a waveform. \n",
    "        draw_waveform_and_save(i, df1, df2, df3, path=root)\n",
    "    else:\n",
    "        count+=1"
   ]
  },
  {
   "cell_type": "code",
   "execution_count": 82,
   "metadata": {},
   "outputs": [
    {
     "data": {
      "text/plain": [
       "70"
      ]
     },
     "execution_count": 82,
     "metadata": {},
     "output_type": "execute_result"
    }
   ],
   "source": [
    "count"
   ]
  },
  {
   "cell_type": "code",
   "execution_count": 44,
   "metadata": {},
   "outputs": [],
   "source": [
    "l1 = ast.literal_eval(df1[\"Time stamp outputs\"][0])\n",
    "l2 = ast.literal_eval(df2[\"Time stamp outputs\"][0])"
   ]
  },
  {
   "cell_type": "code",
   "execution_count": 33,
   "metadata": {},
   "outputs": [],
   "source": [
    "import matplotlib.pyplot as plt"
   ]
  },
  {
   "cell_type": "code",
   "execution_count": 73,
   "metadata": {},
   "outputs": [
    {
     "name": "stdout",
     "output_type": "stream",
     "text": [
      "[0, 0, 0, 0, 1, 1, 1, 1]\n",
      "[0, 0, 1, 0, 1, 1, 1, 1]\n",
      "[0, 0, 0, 0, 1, 1, 1, 1]\n",
      "['the_0', 'senator_1', 'that_2', 'the_3', 'dancers_4', 'hate_5', 'is_6', 'tall_7']\n"
     ]
    },
    {
     "data": {
      "image/png": "[encoded data removed]",
      "text/plain": [
       "<Figure size 432x288 with 1 Axes>"
      ]
     },
     "metadata": {
      "needs_background": "light"
     },
     "output_type": "display_data"
    }
   ],
   "source": [
    "draw_waveform_and_save(700, df1, df2, df3)"
   ]
  },
  {
   "cell_type": "code",
   "execution_count": null,
   "metadata": {},
   "outputs": [],
   "source": []
  },
  {
   "cell_type": "code",
   "execution_count": null,
   "metadata": {},
   "outputs": [],
   "source": []
  }
 ],
 "metadata": {
  "kernelspec": {
   "display_name": "Python [conda env:btpenv] *",
   "language": "python",
   "name": "conda-env-btpenv-py"
  },
  "language_info": {
   "codemirror_mode": {
    "name": "ipython",
    "version": 3
   },
   "file_extension": ".py",
   "mimetype": "text/x-python",
   "name": "python",
   "nbconvert_exporter": "python",
   "pygments_lexer": "ipython3",
   "version": "3.6.9"
  }
 },
 "nbformat": 4,
 "nbformat_minor": 2
}
